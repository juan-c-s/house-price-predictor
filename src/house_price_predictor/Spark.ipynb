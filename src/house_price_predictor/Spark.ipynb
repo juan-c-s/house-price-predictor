{
 "cells": [
  {
   "cell_type": "code",
   "execution_count": null,
   "id": "bd43a78b",
   "metadata": {},
   "outputs": [],
   "source": [
    "\n",
    "\n",
    " "
   ]
  },
  {
   "cell_type": "code",
   "execution_count": 1,
   "id": "5ae12bb4",
   "metadata": {},
   "outputs": [
    {
     "name": "stdout",
     "output_type": "stream",
     "text": [
      "Starting Spark application\n"
     ]
    },
    {
     "data": {
      "text/html": [
       "<table>\n",
       "<tr><th>ID</th><th>YARN Application ID</th><th>Kind</th><th>State</th><th>Spark UI</th><th>Driver log</th><th>User</th><th>Current session?</th></tr><tr><td>5</td><td>application_1748125271859_0006</td><td>pyspark</td><td>idle</td><td><a target=\"_blank\" href=\"http://ip-172-31-10-201.ec2.internal:20888/proxy/application_1748125271859_0006/\">Link</a></td><td><a target=\"_blank\" href=\"http://ip-172-31-10-36.ec2.internal:8042/node/containerlogs/container_1748125271859_0006_01_000001/livy\">Link</a></td><td>None</td><td>✔</td></tr></table>"
      ],
      "text/plain": [
       "<IPython.core.display.HTML object>"
      ]
     },
     "metadata": {},
     "output_type": "display_data"
    },
    {
     "data": {
      "application/vnd.jupyter.widget-view+json": {
       "model_id": "",
       "version_major": 2,
       "version_minor": 0
      },
      "text/plain": [
       "FloatProgress(value=0.0, bar_style='info', description='Progress:', layout=Layout(height='25px', width='50%'),…"
      ]
     },
     "metadata": {},
     "output_type": "display_data"
    },
    {
     "name": "stdout",
     "output_type": "stream",
     "text": [
      "SparkSession available as 'spark'.\n"
     ]
    },
    {
     "data": {
      "application/vnd.jupyter.widget-view+json": {
       "model_id": "",
       "version_major": 2,
       "version_minor": 0
      },
      "text/plain": [
       "FloatProgress(value=0.0, bar_style='info', description='Progress:', layout=Layout(height='25px', width='50%'),…"
      ]
     },
     "metadata": {},
     "output_type": "display_data"
    },
    {
     "name": "stdout",
     "output_type": "stream",
     "text": [
      "DataFrame[price: int, area: int, bedrooms: int, bathrooms: int, stories: int, mainroad: string, guestroom: string, basement: string, hotwaterheating: string, airconditioning: string, parking: int, prefarea: string, furnishingstatus: string]"
     ]
    }
   ],
   "source": [
    "from pyspark.sql import SparkSession\n",
    "from pyspark.sql.functions import when, log, col\n",
    "\n",
    "spark = SparkSession.builder.appName(\"Proyecto1\").getOrCreate()\n",
    " \n",
    "# Cargar datos desde S3 (reemplaza con tu ruta real)\n",
    "\n",
    "df = spark.read.csv(\"s3://javillarrmb/zones/raw/housing/Housing.csv\", header=True, inferSchema=True)\n",
    " \n",
    "df "
   ]
  },
  {
   "cell_type": "code",
   "execution_count": 2,
   "id": "2d390452",
   "metadata": {},
   "outputs": [
    {
     "data": {
      "application/vnd.jupyter.widget-view+json": {
       "model_id": "",
       "version_major": 2,
       "version_minor": 0
      },
      "text/plain": [
       "FloatProgress(value=0.0, bar_style='info', description='Progress:', layout=Layout(height='25px', width='50%'),…"
      ]
     },
     "metadata": {},
     "output_type": "display_data"
    }
   ],
   "source": [
    "# Mapear columnas binarias\n",
    "\n",
    "binary_columns = ['mainroad', 'guestroom', 'basement', 'hotwaterheating', 'airconditioning', 'prefarea']\n",
    "\n",
    "for col_name in binary_columns:\n",
    "\n",
    "    df = df.withColumn(col_name, when(col(col_name) == 'yes', 1).otherwise(0))\n",
    " \n",
    "# One-hot encoding manual (puede usarse StringIndexer + OneHotEncoder si prefieres ML pipelines)\n",
    "\n"
   ]
  },
  {
   "cell_type": "code",
   "execution_count": 3,
   "id": "5bb4e83e",
   "metadata": {},
   "outputs": [
    {
     "data": {
      "application/vnd.jupyter.widget-view+json": {
       "model_id": "",
       "version_major": 2,
       "version_minor": 0
      },
      "text/plain": [
       "FloatProgress(value=0.0, bar_style='info', description='Progress:', layout=Layout(height='25px', width='50%'),…"
      ]
     },
     "metadata": {},
     "output_type": "display_data"
    }
   ],
   "source": [
    "from pyspark.ml.feature import StringIndexer, OneHotEncoder\n",
    " \n",
    "indexer = StringIndexer(inputCol=\"furnishingstatus\", outputCol=\"furnishingstatus_index\")\n",
    "\n",
    "encoder = OneHotEncoder(inputCols=[\"furnishingstatus_index\"], outputCols=[\"furnishingstatus_vec\"])\n",
    " \n",
    "df = indexer.fit(df).transform(df)\n",
    "\n",
    "df = encoder.fit(df).transform(df)\n",
    " \n",
    "# Log transformaciones\n",
    "\n",
    "df = df.withColumn(\"log_price\", log(col(\"price\")))\n",
    "\n",
    "df = df.withColumn(\"log_area\", log(col(\"area\")))\n",
    " \n"
   ]
  },
  {
   "cell_type": "code",
   "execution_count": 4,
   "id": "98dd0130",
   "metadata": {},
   "outputs": [
    {
     "data": {
      "application/vnd.jupyter.widget-view+json": {
       "model_id": "",
       "version_major": 2,
       "version_minor": 0
      },
      "text/plain": [
       "FloatProgress(value=0.0, bar_style='info', description='Progress:', layout=Layout(height='25px', width='50%'),…"
      ]
     },
     "metadata": {},
     "output_type": "display_data"
    }
   ],
   "source": [
    "# Guardar en zona 'trusted'\n",
    "\n",
    "df.write.mode(\"overwrite\").parquet(\"s3a://javillarrmb/zones/trusted/housing/Housing.parquet\")"
   ]
  },
  {
   "cell_type": "code",
   "execution_count": 6,
   "id": "821006e3",
   "metadata": {},
   "outputs": [
    {
     "data": {
      "application/vnd.jupyter.widget-view+json": {
       "model_id": "",
       "version_major": 2,
       "version_minor": 0
      },
      "text/plain": [
       "FloatProgress(value=0.0, bar_style='info', description='Progress:', layout=Layout(height='25px', width='50%'),…"
      ]
     },
     "metadata": {},
     "output_type": "display_data"
    },
    {
     "name": "stdout",
     "output_type": "stream",
     "text": [
      "RMSE: 0.23044645091312385"
     ]
    }
   ],
   "source": [
    "from pyspark.ml.feature import VectorAssembler\n",
    "\n",
    "from pyspark.ml.regression import LinearRegression\n",
    "\n",
    "from pyspark.ml.evaluation import RegressionEvaluator\n",
    " \n",
    "# Armar features\n",
    "\n",
    "feature_cols = ['log_area', 'bedrooms', 'bathrooms', 'stories', 'mainroad', 'guestroom',\n",
    "\n",
    "                'basement', 'hotwaterheating', 'airconditioning', 'parking', 'prefarea']\n",
    "\n",
    "assembler = VectorAssembler(inputCols=feature_cols + ['furnishingstatus_vec'], outputCol=\"features\")\n",
    " \n",
    "df_features = assembler.transform(df)\n",
    " \n",
    "# Split\n",
    "\n",
    "train_data, test_data = df_features.randomSplit([0.8, 0.2], seed=42)\n",
    " \n",
    "# Modelo\n",
    "\n",
    "lr = LinearRegression(featuresCol='features', labelCol='log_price')\n",
    "\n",
    "model = lr.fit(train_data)\n",
    " \n",
    "# Predicción y evaluación\n",
    "\n",
    "predictions = model.transform(test_data)\n",
    "\n",
    "evaluator = RegressionEvaluator(labelCol='log_price', predictionCol='prediction', metricName='rmse')\n",
    "\n",
    "rmse = evaluator.evaluate(predictions)\n",
    "\n",
    "print(\"RMSE:\", rmse)\n",
    "\n",
    " "
   ]
  },
  {
   "cell_type": "code",
   "execution_count": 9,
   "id": "b40c9159",
   "metadata": {},
   "outputs": [
    {
     "data": {
      "application/vnd.jupyter.widget-view+json": {
       "model_id": "",
       "version_major": 2,
       "version_minor": 0
      },
      "text/plain": [
       "FloatProgress(value=0.0, bar_style='info', description='Progress:', layout=Layout(height='25px', width='50%'),…"
      ]
     },
     "metadata": {},
     "output_type": "display_data"
    }
   ],
   "source": [
    "# Guardar en zona 'refined'\n",
    "\n",
    "predictions.write.mode(\"overwrite\").parquet(\"s3a://javillarrmb/zones/refined/predictions/Housing.parquet\")\n"
   ]
  },
  {
   "cell_type": "code",
   "execution_count": 17,
   "id": "db5c2c77",
   "metadata": {},
   "outputs": [
    {
     "data": {
      "application/vnd.jupyter.widget-view+json": {
       "model_id": "",
       "version_major": 2,
       "version_minor": 0
      },
      "text/plain": [
       "FloatProgress(value=0.0, bar_style='info', description='Progress:', layout=Layout(height='25px', width='50%'),…"
      ]
     },
     "metadata": {},
     "output_type": "display_data"
    }
   ],
   "source": [
    "pythonCopiarEditardf_stats = spark.sql(\"\"\"\n",
    "CREATE DATABASE IF NOT EXISTS proyecto1db;\n",
    "\"\"\")\n",
    "pythonCopiarEditardf_stats = spark.sql(\"\"\"\n",
    "CREATE EXTERNAL TABLE housing (\n",
    "    area DOUBLE,\n",
    "    bedrooms INT,\n",
    "    log_area DOUBLE,\n",
    "    log_price DOUBLE\n",
    ")\n",
    "STORED AS PARQUET\n",
    "LOCATION 's3://javillarrmb/zones/trusted/housing/';\n",
    "\"\"\")"
   ]
  },
  {
   "cell_type": "code",
   "execution_count": 20,
   "id": "21429355",
   "metadata": {},
   "outputs": [
    {
     "data": {
      "application/vnd.jupyter.widget-view+json": {
       "model_id": "",
       "version_major": 2,
       "version_minor": 0
      },
      "text/plain": [
       "FloatProgress(value=0.0, bar_style='info', description='Progress:', layout=Layout(height='25px', width='50%'),…"
      ]
     },
     "metadata": {},
     "output_type": "display_data"
    }
   ],
   "source": [
    "df_sql = spark.sql(\"\"\"\n",
    "SELECT bedrooms, AVG(log_price) as avg_price\n",
    "FROM housing\n",
    "GROUP BY bedrooms\n",
    "ORDER BY avg_price DESC\n",
    "\"\"\")"
   ]
  },
  {
   "cell_type": "code",
   "execution_count": null,
   "id": "aee235c9",
   "metadata": {},
   "outputs": [],
   "source": []
  }
 ],
 "metadata": {
  "kernelspec": {
   "display_name": "PySpark",
   "language": "python",
   "name": "pysparkkernel"
  },
  "language_info": {
   "codemirror_mode": {
    "name": "python",
    "version": 3
   },
   "file_extension": ".py",
   "mimetype": "text/x-python",
   "name": "pyspark",
   "pygments_lexer": "python3"
  }
 },
 "nbformat": 4,
 "nbformat_minor": 5
}

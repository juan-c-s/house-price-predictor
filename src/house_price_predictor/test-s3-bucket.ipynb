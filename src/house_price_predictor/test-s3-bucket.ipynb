{
 "cells": [
  {
   "cell_type": "code",
   "execution_count": null,
   "metadata": {},
   "outputs": [],
   "source": []
  },
  {
   "cell_type": "code",
   "execution_count": 1,
   "metadata": {},
   "outputs": [],
   "source": [
    "bucket_uri = \"s3://jcsalazaru-almacenamiento/raw/house-prices/Housing.csv\""
   ]
  },
  {
   "cell_type": "code",
   "execution_count": 2,
   "metadata": {},
   "outputs": [],
   "source": [
    "import dotenv\n",
    "\n",
    "dotenv.load_dotenv()\n",
    "\n",
    "import boto3\n",
    "\n"
   ]
  },
  {
   "cell_type": "code",
   "execution_count": 3,
   "metadata": {},
   "outputs": [],
   "source": [
    "URI = \"s3://jcsalazaru-almacenamiento/raw/house-prices/Housing.csv\""
   ]
  },
  {
   "cell_type": "code",
   "execution_count": 4,
   "metadata": {},
   "outputs": [],
   "source": [
    "import os"
   ]
  },
  {
   "cell_type": "code",
   "execution_count": 5,
   "metadata": {},
   "outputs": [
    {
     "name": "stdout",
     "output_type": "stream",
     "text": [
      "hello\n"
     ]
    }
   ],
   "source": [
    "print(os.getenv('test'))"
   ]
  },
  {
   "cell_type": "code",
   "execution_count": 39,
   "metadata": {},
   "outputs": [],
   "source": [
    "import boto3\n",
    "from urllib.parse import urlparse\n",
    "import pandas as pd\n",
    "from io import StringIO, BytesIO"
   ]
  },
  {
   "cell_type": "code",
   "execution_count": 40,
   "metadata": {},
   "outputs": [],
   "source": [
    "def read_from_s3(bucket_name, file_key, file_type='csv'):\n",
    "    \"\"\"\n",
    "    Read data directly from S3\n",
    "    Args:\n",
    "        bucket_name (str): Name of the S3 bucket\n",
    "        file_key (str): Path to the file in the bucket\n",
    "        file_type (str): Type of file to read ('csv' or 'parquet')\n",
    "    \"\"\"\n",
    "    try:\n",
    "        # Initialize S3 client\n",
    "        s3_client = boto3.client(\n",
    "            's3',\n",
    "            aws_access_key_id=os.getenv('aws_access_key_id'),\n",
    "            aws_secret_access_key=os.getenv('aws_secret_access_key'),\n",
    "            aws_session_token=os.getenv('aws_session_token')\n",
    "        )\n",
    "        \n",
    "        # Get the object from S3\n",
    "        obj = s3_client.get_object(\n",
    "            Bucket=bucket_name,\n",
    "            Key=file_key\n",
    "        )\n",
    "        \n",
    "        # Read the data stream based on file type\n",
    "        if file_type.lower() == 'csv':\n",
    "            df = pd.read_csv(obj['Body'])\n",
    "        elif file_type.lower() == 'parquet':\n",
    "            buffer = BytesIO(obj['Body'].read())\n",
    "            df = pd.read_parquet(buffer)\n",
    "        else:\n",
    "            raise ValueError(f\"Unsupported file type: {file_type}. Use 'csv' or 'parquet'\")\n",
    "        \n",
    "        return df\n",
    "    \n",
    "    except Exception as e:\n",
    "        print(f\"Error reading from S3: {str(e)}\")\n",
    "        return None\n",
    "# Example usage:\n",
    "# For CSV:\n",
    "# df = read_from_s3(HOUSING_BUCKET, HOUSING_S3_KEY, file_type='csv')\n",
    "# For Parquet:\n",
    "# df = read_from_s3(HOUSING_BUCKET, HOUSING_S3_KEY, file_type='parquet')"
   ]
  },
  {
   "cell_type": "code",
   "execution_count": 41,
   "metadata": {},
   "outputs": [],
   "source": [
    "\n",
    "# Your exact bucket and key values\n",
    "HOUSING_BUCKET = \"jcsalazaru-almacenamiento\"\n",
    "HOUSING_S3_KEY = \"raw/house-prices/Housing.csv\"\n"
   ]
  },
  {
   "cell_type": "code",
   "execution_count": 42,
   "metadata": {},
   "outputs": [],
   "source": [
    "df = read_from_s3(HOUSING_BUCKET, HOUSING_S3_KEY)"
   ]
  },
  {
   "cell_type": "code",
   "execution_count": 43,
   "metadata": {},
   "outputs": [
    {
     "data": {
      "text/html": [
       "<div>\n",
       "<style scoped>\n",
       "    .dataframe tbody tr th:only-of-type {\n",
       "        vertical-align: middle;\n",
       "    }\n",
       "\n",
       "    .dataframe tbody tr th {\n",
       "        vertical-align: top;\n",
       "    }\n",
       "\n",
       "    .dataframe thead th {\n",
       "        text-align: right;\n",
       "    }\n",
       "</style>\n",
       "<table border=\"1\" class=\"dataframe\">\n",
       "  <thead>\n",
       "    <tr style=\"text-align: right;\">\n",
       "      <th></th>\n",
       "      <th>price</th>\n",
       "      <th>area</th>\n",
       "      <th>bedrooms</th>\n",
       "      <th>bathrooms</th>\n",
       "      <th>stories</th>\n",
       "      <th>mainroad</th>\n",
       "      <th>guestroom</th>\n",
       "      <th>basement</th>\n",
       "      <th>hotwaterheating</th>\n",
       "      <th>airconditioning</th>\n",
       "      <th>parking</th>\n",
       "      <th>prefarea</th>\n",
       "      <th>furnishingstatus</th>\n",
       "    </tr>\n",
       "  </thead>\n",
       "  <tbody>\n",
       "    <tr>\n",
       "      <th>0</th>\n",
       "      <td>13300000</td>\n",
       "      <td>7420</td>\n",
       "      <td>4</td>\n",
       "      <td>2</td>\n",
       "      <td>3</td>\n",
       "      <td>yes</td>\n",
       "      <td>no</td>\n",
       "      <td>no</td>\n",
       "      <td>no</td>\n",
       "      <td>yes</td>\n",
       "      <td>2</td>\n",
       "      <td>yes</td>\n",
       "      <td>furnished</td>\n",
       "    </tr>\n",
       "    <tr>\n",
       "      <th>1</th>\n",
       "      <td>12250000</td>\n",
       "      <td>8960</td>\n",
       "      <td>4</td>\n",
       "      <td>4</td>\n",
       "      <td>4</td>\n",
       "      <td>yes</td>\n",
       "      <td>no</td>\n",
       "      <td>no</td>\n",
       "      <td>no</td>\n",
       "      <td>yes</td>\n",
       "      <td>3</td>\n",
       "      <td>no</td>\n",
       "      <td>furnished</td>\n",
       "    </tr>\n",
       "    <tr>\n",
       "      <th>2</th>\n",
       "      <td>12250000</td>\n",
       "      <td>9960</td>\n",
       "      <td>3</td>\n",
       "      <td>2</td>\n",
       "      <td>2</td>\n",
       "      <td>yes</td>\n",
       "      <td>no</td>\n",
       "      <td>yes</td>\n",
       "      <td>no</td>\n",
       "      <td>no</td>\n",
       "      <td>2</td>\n",
       "      <td>yes</td>\n",
       "      <td>semi-furnished</td>\n",
       "    </tr>\n",
       "    <tr>\n",
       "      <th>3</th>\n",
       "      <td>12215000</td>\n",
       "      <td>7500</td>\n",
       "      <td>4</td>\n",
       "      <td>2</td>\n",
       "      <td>2</td>\n",
       "      <td>yes</td>\n",
       "      <td>no</td>\n",
       "      <td>yes</td>\n",
       "      <td>no</td>\n",
       "      <td>yes</td>\n",
       "      <td>3</td>\n",
       "      <td>yes</td>\n",
       "      <td>furnished</td>\n",
       "    </tr>\n",
       "    <tr>\n",
       "      <th>4</th>\n",
       "      <td>11410000</td>\n",
       "      <td>7420</td>\n",
       "      <td>4</td>\n",
       "      <td>1</td>\n",
       "      <td>2</td>\n",
       "      <td>yes</td>\n",
       "      <td>yes</td>\n",
       "      <td>yes</td>\n",
       "      <td>no</td>\n",
       "      <td>yes</td>\n",
       "      <td>2</td>\n",
       "      <td>no</td>\n",
       "      <td>furnished</td>\n",
       "    </tr>\n",
       "  </tbody>\n",
       "</table>\n",
       "</div>"
      ],
      "text/plain": [
       "      price  area  bedrooms  bathrooms  stories mainroad guestroom basement  \\\n",
       "0  13300000  7420         4          2        3      yes        no       no   \n",
       "1  12250000  8960         4          4        4      yes        no       no   \n",
       "2  12250000  9960         3          2        2      yes        no      yes   \n",
       "3  12215000  7500         4          2        2      yes        no      yes   \n",
       "4  11410000  7420         4          1        2      yes       yes      yes   \n",
       "\n",
       "  hotwaterheating airconditioning  parking prefarea furnishingstatus  \n",
       "0              no             yes        2      yes        furnished  \n",
       "1              no             yes        3       no        furnished  \n",
       "2              no              no        2      yes   semi-furnished  \n",
       "3              no             yes        3      yes        furnished  \n",
       "4              no             yes        2       no        furnished  "
      ]
     },
     "execution_count": 43,
     "metadata": {},
     "output_type": "execute_result"
    }
   ],
   "source": [
    "df.head()"
   ]
  },
  {
   "cell_type": "code",
   "execution_count": 48,
   "metadata": {},
   "outputs": [],
   "source": [
    "\n",
    "# Your S3 path for the parquet file\n",
    "S3_BUCKET = \"jcsalazaru-almacenamiento\"\n",
    "S3_KEY_TRUSTED = \"trusted/housing/Housing.parquet/part-00000-84de5176-05f5-4259-b795-c2ff88ce07e5-c000.snappy.parquet\"\n"
   ]
  },
  {
   "cell_type": "code",
   "execution_count": 49,
   "metadata": {},
   "outputs": [],
   "source": [
    "# Read the data\n",
    "df = read_from_s3(S3_BUCKET, S3_KEY_TRUSTED, file_type='parquet')"
   ]
  },
  {
   "cell_type": "code",
   "execution_count": 51,
   "metadata": {},
   "outputs": [
    {
     "data": {
      "text/html": [
       "<div>\n",
       "<style scoped>\n",
       "    .dataframe tbody tr th:only-of-type {\n",
       "        vertical-align: middle;\n",
       "    }\n",
       "\n",
       "    .dataframe tbody tr th {\n",
       "        vertical-align: top;\n",
       "    }\n",
       "\n",
       "    .dataframe thead th {\n",
       "        text-align: right;\n",
       "    }\n",
       "</style>\n",
       "<table border=\"1\" class=\"dataframe\">\n",
       "  <thead>\n",
       "    <tr style=\"text-align: right;\">\n",
       "      <th></th>\n",
       "      <th>price</th>\n",
       "      <th>area</th>\n",
       "      <th>bedrooms</th>\n",
       "      <th>bathrooms</th>\n",
       "      <th>stories</th>\n",
       "      <th>mainroad</th>\n",
       "      <th>guestroom</th>\n",
       "      <th>basement</th>\n",
       "      <th>hotwaterheating</th>\n",
       "      <th>airconditioning</th>\n",
       "      <th>parking</th>\n",
       "      <th>prefarea</th>\n",
       "      <th>furnishingstatus</th>\n",
       "      <th>furnishingstatus_index</th>\n",
       "      <th>furnishingstatus_vec</th>\n",
       "      <th>log_price</th>\n",
       "      <th>log_area</th>\n",
       "    </tr>\n",
       "  </thead>\n",
       "  <tbody>\n",
       "    <tr>\n",
       "      <th>0</th>\n",
       "      <td>13300000</td>\n",
       "      <td>7420</td>\n",
       "      <td>4</td>\n",
       "      <td>2</td>\n",
       "      <td>3</td>\n",
       "      <td>0</td>\n",
       "      <td>0</td>\n",
       "      <td>0</td>\n",
       "      <td>0</td>\n",
       "      <td>0</td>\n",
       "      <td>2</td>\n",
       "      <td>0</td>\n",
       "      <td>furnished</td>\n",
       "      <td>2.0</td>\n",
       "      <td>{'type': 0, 'size': 2, 'indices': [], 'values'...</td>\n",
       "      <td>16.403275</td>\n",
       "      <td>8.911934</td>\n",
       "    </tr>\n",
       "    <tr>\n",
       "      <th>1</th>\n",
       "      <td>12250000</td>\n",
       "      <td>8960</td>\n",
       "      <td>4</td>\n",
       "      <td>4</td>\n",
       "      <td>4</td>\n",
       "      <td>0</td>\n",
       "      <td>0</td>\n",
       "      <td>0</td>\n",
       "      <td>0</td>\n",
       "      <td>0</td>\n",
       "      <td>3</td>\n",
       "      <td>0</td>\n",
       "      <td>furnished</td>\n",
       "      <td>2.0</td>\n",
       "      <td>{'type': 0, 'size': 2, 'indices': [], 'values'...</td>\n",
       "      <td>16.321036</td>\n",
       "      <td>9.100526</td>\n",
       "    </tr>\n",
       "    <tr>\n",
       "      <th>2</th>\n",
       "      <td>12250000</td>\n",
       "      <td>9960</td>\n",
       "      <td>3</td>\n",
       "      <td>2</td>\n",
       "      <td>2</td>\n",
       "      <td>0</td>\n",
       "      <td>0</td>\n",
       "      <td>0</td>\n",
       "      <td>0</td>\n",
       "      <td>0</td>\n",
       "      <td>2</td>\n",
       "      <td>0</td>\n",
       "      <td>semi-furnished</td>\n",
       "      <td>0.0</td>\n",
       "      <td>{'type': 0, 'size': 2, 'indices': [0], 'values...</td>\n",
       "      <td>16.321036</td>\n",
       "      <td>9.206332</td>\n",
       "    </tr>\n",
       "    <tr>\n",
       "      <th>3</th>\n",
       "      <td>12215000</td>\n",
       "      <td>7500</td>\n",
       "      <td>4</td>\n",
       "      <td>2</td>\n",
       "      <td>2</td>\n",
       "      <td>0</td>\n",
       "      <td>0</td>\n",
       "      <td>0</td>\n",
       "      <td>0</td>\n",
       "      <td>0</td>\n",
       "      <td>3</td>\n",
       "      <td>0</td>\n",
       "      <td>furnished</td>\n",
       "      <td>2.0</td>\n",
       "      <td>{'type': 0, 'size': 2, 'indices': [], 'values'...</td>\n",
       "      <td>16.318175</td>\n",
       "      <td>8.922658</td>\n",
       "    </tr>\n",
       "    <tr>\n",
       "      <th>4</th>\n",
       "      <td>11410000</td>\n",
       "      <td>7420</td>\n",
       "      <td>4</td>\n",
       "      <td>1</td>\n",
       "      <td>2</td>\n",
       "      <td>0</td>\n",
       "      <td>0</td>\n",
       "      <td>0</td>\n",
       "      <td>0</td>\n",
       "      <td>0</td>\n",
       "      <td>2</td>\n",
       "      <td>0</td>\n",
       "      <td>furnished</td>\n",
       "      <td>2.0</td>\n",
       "      <td>{'type': 0, 'size': 2, 'indices': [], 'values'...</td>\n",
       "      <td>16.250001</td>\n",
       "      <td>8.911934</td>\n",
       "    </tr>\n",
       "  </tbody>\n",
       "</table>\n",
       "</div>"
      ],
      "text/plain": [
       "      price  area  bedrooms  bathrooms  stories  mainroad  guestroom  \\\n",
       "0  13300000  7420         4          2        3         0          0   \n",
       "1  12250000  8960         4          4        4         0          0   \n",
       "2  12250000  9960         3          2        2         0          0   \n",
       "3  12215000  7500         4          2        2         0          0   \n",
       "4  11410000  7420         4          1        2         0          0   \n",
       "\n",
       "   basement  hotwaterheating  airconditioning  parking  prefarea  \\\n",
       "0         0                0                0        2         0   \n",
       "1         0                0                0        3         0   \n",
       "2         0                0                0        2         0   \n",
       "3         0                0                0        3         0   \n",
       "4         0                0                0        2         0   \n",
       "\n",
       "  furnishingstatus  furnishingstatus_index  \\\n",
       "0        furnished                     2.0   \n",
       "1        furnished                     2.0   \n",
       "2   semi-furnished                     0.0   \n",
       "3        furnished                     2.0   \n",
       "4        furnished                     2.0   \n",
       "\n",
       "                                furnishingstatus_vec  log_price  log_area  \n",
       "0  {'type': 0, 'size': 2, 'indices': [], 'values'...  16.403275  8.911934  \n",
       "1  {'type': 0, 'size': 2, 'indices': [], 'values'...  16.321036  9.100526  \n",
       "2  {'type': 0, 'size': 2, 'indices': [0], 'values...  16.321036  9.206332  \n",
       "3  {'type': 0, 'size': 2, 'indices': [], 'values'...  16.318175  8.922658  \n",
       "4  {'type': 0, 'size': 2, 'indices': [], 'values'...  16.250001  8.911934  "
      ]
     },
     "execution_count": 51,
     "metadata": {},
     "output_type": "execute_result"
    }
   ],
   "source": [
    "df.head()"
   ]
  },
  {
   "cell_type": "code",
   "execution_count": 52,
   "metadata": {},
   "outputs": [
    {
     "data": {
      "text/plain": [
       "False"
      ]
     },
     "execution_count": 52,
     "metadata": {},
     "output_type": "execute_result"
    }
   ],
   "source": [
    "\"prediction\" in df.columns"
   ]
  },
  {
   "cell_type": "code",
   "execution_count": 47,
   "metadata": {},
   "outputs": [
    {
     "data": {
      "text/plain": [
       "Index(['price', 'area', 'bedrooms', 'bathrooms', 'stories', 'mainroad',\n",
       "       'guestroom', 'basement', 'hotwaterheating', 'airconditioning',\n",
       "       'parking', 'prefarea', 'furnishingstatus', 'furnishingstatus_index',\n",
       "       'furnishingstatus_vec', 'log_price', 'log_area'],\n",
       "      dtype='object')"
      ]
     },
     "execution_count": 47,
     "metadata": {},
     "output_type": "execute_result"
    }
   ],
   "source": [
    "df.columns"
   ]
  },
  {
   "cell_type": "code",
   "execution_count": 78,
   "metadata": {},
   "outputs": [],
   "source": [
    "S3_KEY_REFINED = \"refined/housing/Housing.parquet/part-00000-d3e1157b-a9f7-4fe7-a5fa-9f4818e2b222-c000.snappy.parquet\""
   ]
  },
  {
   "cell_type": "code",
   "execution_count": 79,
   "metadata": {},
   "outputs": [],
   "source": [
    "df_predictions = read_from_s3(S3_BUCKET, S3_KEY_REFINED, file_type='parquet')"
   ]
  },
  {
   "cell_type": "code",
   "execution_count": 80,
   "metadata": {},
   "outputs": [
    {
     "data": {
      "text/html": [
       "<div>\n",
       "<style scoped>\n",
       "    .dataframe tbody tr th:only-of-type {\n",
       "        vertical-align: middle;\n",
       "    }\n",
       "\n",
       "    .dataframe tbody tr th {\n",
       "        vertical-align: top;\n",
       "    }\n",
       "\n",
       "    .dataframe thead th {\n",
       "        text-align: right;\n",
       "    }\n",
       "</style>\n",
       "<table border=\"1\" class=\"dataframe\">\n",
       "  <thead>\n",
       "    <tr style=\"text-align: right;\">\n",
       "      <th></th>\n",
       "      <th>prediction</th>\n",
       "      <th>price</th>\n",
       "      <th>normal_prediction</th>\n",
       "      <th>error</th>\n",
       "      <th>error_percentage</th>\n",
       "      <th>absolute_error</th>\n",
       "    </tr>\n",
       "  </thead>\n",
       "  <tbody>\n",
       "    <tr>\n",
       "      <th>0</th>\n",
       "      <td>15.067896</td>\n",
       "      <td>1750000</td>\n",
       "      <td>3.498681e+06</td>\n",
       "      <td>-1.748681e+06</td>\n",
       "      <td>-99.924608</td>\n",
       "      <td>1.748681e+06</td>\n",
       "    </tr>\n",
       "    <tr>\n",
       "      <th>1</th>\n",
       "      <td>14.750444</td>\n",
       "      <td>1890000</td>\n",
       "      <td>2.547045e+06</td>\n",
       "      <td>-6.570447e+05</td>\n",
       "      <td>-34.764269</td>\n",
       "      <td>6.570447e+05</td>\n",
       "    </tr>\n",
       "    <tr>\n",
       "      <th>2</th>\n",
       "      <td>15.114776</td>\n",
       "      <td>1960000</td>\n",
       "      <td>3.666601e+06</td>\n",
       "      <td>-1.706601e+06</td>\n",
       "      <td>-87.071455</td>\n",
       "      <td>1.706601e+06</td>\n",
       "    </tr>\n",
       "    <tr>\n",
       "      <th>3</th>\n",
       "      <td>15.099529</td>\n",
       "      <td>2233000</td>\n",
       "      <td>3.611123e+06</td>\n",
       "      <td>-1.378123e+06</td>\n",
       "      <td>-61.716209</td>\n",
       "      <td>1.378123e+06</td>\n",
       "    </tr>\n",
       "    <tr>\n",
       "      <th>4</th>\n",
       "      <td>14.907182</td>\n",
       "      <td>2345000</td>\n",
       "      <td>2.979251e+06</td>\n",
       "      <td>-6.342509e+05</td>\n",
       "      <td>-27.046948</td>\n",
       "      <td>6.342509e+05</td>\n",
       "    </tr>\n",
       "  </tbody>\n",
       "</table>\n",
       "</div>"
      ],
      "text/plain": [
       "   prediction    price  normal_prediction         error  error_percentage  \\\n",
       "0   15.067896  1750000       3.498681e+06 -1.748681e+06        -99.924608   \n",
       "1   14.750444  1890000       2.547045e+06 -6.570447e+05        -34.764269   \n",
       "2   15.114776  1960000       3.666601e+06 -1.706601e+06        -87.071455   \n",
       "3   15.099529  2233000       3.611123e+06 -1.378123e+06        -61.716209   \n",
       "4   14.907182  2345000       2.979251e+06 -6.342509e+05        -27.046948   \n",
       "\n",
       "   absolute_error  \n",
       "0    1.748681e+06  \n",
       "1    6.570447e+05  \n",
       "2    1.706601e+06  \n",
       "3    1.378123e+06  \n",
       "4    6.342509e+05  "
      ]
     },
     "execution_count": 80,
     "metadata": {},
     "output_type": "execute_result"
    }
   ],
   "source": [
    "df_predictions.head()"
   ]
  },
  {
   "cell_type": "code",
   "execution_count": 60,
   "metadata": {},
   "outputs": [
    {
     "data": {
      "text/plain": [
       "0    3.498681e+06\n",
       "1    2.547045e+06\n",
       "2    3.666601e+06\n",
       "3    3.611123e+06\n",
       "4    2.979251e+06\n",
       "Name: normal_prediction, dtype: float64"
      ]
     },
     "execution_count": 60,
     "metadata": {},
     "output_type": "execute_result"
    }
   ],
   "source": [
    "df_predictions.normal_prediction.head()"
   ]
  },
  {
   "cell_type": "code",
   "execution_count": 61,
   "metadata": {},
   "outputs": [
    {
     "data": {
      "text/plain": [
       "count    8.300000e+01\n",
       "mean     4.633577e+06\n",
       "std      1.267308e+06\n",
       "min      2.547045e+06\n",
       "25%      3.634264e+06\n",
       "50%      4.281143e+06\n",
       "75%      5.617329e+06\n",
       "max      7.377242e+06\n",
       "Name: normal_prediction, dtype: float64"
      ]
     },
     "execution_count": 61,
     "metadata": {},
     "output_type": "execute_result"
    }
   ],
   "source": [
    "df_predictions.normal_prediction.describe()"
   ]
  },
  {
   "cell_type": "code",
   "execution_count": 59,
   "metadata": {},
   "outputs": [
    {
     "data": {
      "text/plain": [
       "<Axes: >"
      ]
     },
     "execution_count": 59,
     "metadata": {},
     "output_type": "execute_result"
    },
    {
     "data": {
      "image/png": "[encoded data removed]",
      "text/plain": [
       "<Figure size 640x480 with 1 Axes>"
      ]
     },
     "metadata": {},
     "output_type": "display_data"
    }
   ],
   "source": [
    "df_predictions.normal_prediction.hist()"
   ]
  },
  {
   "cell_type": "code",
   "execution_count": null,
   "metadata": {},
   "outputs": [],
   "source": []
  }
 ],
 "metadata": {
  "kernelspec": {
   "display_name": ".venv",
   "language": "python",
   "name": "python3"
  },
  "language_info": {
   "codemirror_mode": {
    "name": "ipython",
    "version": 3
   },
   "file_extension": ".py",
   "mimetype": "text/x-python",
   "name": "python",
   "nbconvert_exporter": "python",
   "pygments_lexer": "ipython3",
   "version": "3.12.8"
  }
 },
 "nbformat": 4,
 "nbformat_minor": 2
}
